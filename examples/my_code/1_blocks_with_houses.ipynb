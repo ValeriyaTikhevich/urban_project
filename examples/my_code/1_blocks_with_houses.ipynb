{
 "cells": [
  {
   "cell_type": "code",
   "execution_count": 1,
   "metadata": {},
   "outputs": [
    {
     "data": {
      "text/html": [
       "\n",
       "\t\t\t<script type=\"text/javascript\">\n",
       "\t\t\t<!--\n",
       "\t\t\t\t\n",
       "\t\t\t{\n",
       "\t\t\t\tvar element = document.getElementById('NetworKit_script');\n",
       "\t\t\t\tif (element) {\n",
       "\t\t\t\t\telement.parentNode.removeChild(element);\n",
       "\t\t\t\t}\n",
       "\t\t\t\telement = document.createElement('script');\n",
       "\t\t\t\telement.type = 'text/javascript';\n",
       "\t\t\t\telement.innerHTML = 'function NetworKit_pageEmbed(id) { var i, j; var elements; elements = document.getElementById(id).getElementsByClassName(\"Plot\"); for (i=0; i<elements.length; i++) { elements[i].id = id + \"_Plot_\" + i; var data = elements[i].getAttribute(\"data-image\").split(\"|\"); elements[i].removeAttribute(\"data-image\"); var content = \"<div class=\\\\\"Image\\\\\" id=\\\\\"\" + elements[i].id + \"_Image\\\\\" />\"; elements[i].innerHTML = content; elements[i].setAttribute(\"data-image-index\", 0); elements[i].setAttribute(\"data-image-length\", data.length); for (j=0; j<data.length; j++) { elements[i].setAttribute(\"data-image-\" + j, data[j]); } NetworKit_plotUpdate(elements[i]); elements[i].onclick = function (e) { NetworKit_overlayShow((e.target) ? e.target : e.srcElement); } } elements = document.getElementById(id).getElementsByClassName(\"HeatCell\"); for (i=0; i<elements.length; i++) { var data = parseFloat(elements[i].getAttribute(\"data-heat\")); var color = \"#00FF00\"; if (data <= 1 && data > 0) { color = \"hsla(0, 100%, 75%, \" + (data) + \")\"; } else if (data <= 0 && data >= -1) { color = \"hsla(240, 100%, 75%, \" + (-data) + \")\"; } elements[i].style.backgroundColor = color; } elements = document.getElementById(id).getElementsByClassName(\"Details\"); for (i=0; i<elements.length; i++) { elements[i].setAttribute(\"data-title\", \"-\"); NetworKit_toggleDetails(elements[i]); elements[i].onclick = function (e) { NetworKit_toggleDetails((e.target) ? e.target : e.srcElement); } } elements = document.getElementById(id).getElementsByClassName(\"MathValue\"); for (i=elements.length-1; i>=0; i--) { value = elements[i].innerHTML.trim(); if (value === \"nan\") { elements[i].parentNode.innerHTML = \"\" } } elements = document.getElementById(id).getElementsByClassName(\"SubCategory\"); for (i=elements.length-1; i>=0; i--) { value = elements[i].innerHTML.trim(); if (value === \"\") { elements[i].parentNode.removeChild(elements[i]) } } elements = document.getElementById(id).getElementsByClassName(\"Category\"); for (i=elements.length-1; i>=0; i--) { value = elements[i].innerHTML.trim(); if (value === \"\") { elements[i].parentNode.removeChild(elements[i]) } } var isFirefox = false; try { isFirefox = typeof InstallTrigger !== \"undefined\"; } catch (e) {} if (!isFirefox) { alert(\"Currently the function\\'s output is only fully supported by Firefox.\"); } } function NetworKit_plotUpdate(source) { var index = source.getAttribute(\"data-image-index\"); var data = source.getAttribute(\"data-image-\" + index); var image = document.getElementById(source.id + \"_Image\"); image.style.backgroundImage = \"url(\" + data + \")\"; } function NetworKit_showElement(id, show) { var element = document.getElementById(id); element.style.display = (show) ? \"block\" : \"none\"; } function NetworKit_overlayShow(source) { NetworKit_overlayUpdate(source); NetworKit_showElement(\"NetworKit_Overlay\", true); } function NetworKit_overlayUpdate(source) { document.getElementById(\"NetworKit_Overlay_Title\").innerHTML = source.title; var index = source.getAttribute(\"data-image-index\"); var data = source.getAttribute(\"data-image-\" + index); var image = document.getElementById(\"NetworKit_Overlay_Image\"); image.setAttribute(\"data-id\", source.id); image.style.backgroundImage = \"url(\" + data + \")\"; var link = document.getElementById(\"NetworKit_Overlay_Toolbar_Bottom_Save\"); link.href = data; link.download = source.title + \".svg\"; } function NetworKit_overlayImageShift(delta) { var image = document.getElementById(\"NetworKit_Overlay_Image\"); var source = document.getElementById(image.getAttribute(\"data-id\")); var index = parseInt(source.getAttribute(\"data-image-index\")); var length = parseInt(source.getAttribute(\"data-image-length\")); var index = (index+delta) % length; if (index < 0) { index = length + index; } source.setAttribute(\"data-image-index\", index); NetworKit_overlayUpdate(source); } function NetworKit_toggleDetails(source) { var childs = source.children; var show = false; if (source.getAttribute(\"data-title\") == \"-\") { source.setAttribute(\"data-title\", \"+\"); show = false; } else { source.setAttribute(\"data-title\", \"-\"); show = true; } for (i=0; i<childs.length; i++) { if (show) { childs[i].style.display = \"block\"; } else { childs[i].style.display = \"none\"; } } }';\n",
       "\t\t\t\telement.setAttribute('id', 'NetworKit_script');\n",
       "\t\t\t\tdocument.head.appendChild(element);\n",
       "\t\t\t}\n",
       "\t\t\n",
       "\t\t\t\t\n",
       "\t\t\t{\n",
       "\t\t\t\tvar element = document.getElementById('NetworKit_style');\n",
       "\t\t\t\tif (element) {\n",
       "\t\t\t\t\telement.parentNode.removeChild(element);\n",
       "\t\t\t\t}\n",
       "\t\t\t\telement = document.createElement('style');\n",
       "\t\t\t\telement.type = 'text/css';\n",
       "\t\t\t\telement.innerHTML = '.NetworKit_Page { font-family: Arial, Helvetica, sans-serif; font-size: 14px; } .NetworKit_Page .Value:before { font-family: Arial, Helvetica, sans-serif; font-size: 1.05em; content: attr(data-title) \":\"; margin-left: -2.5em; padding-right: 0.5em; } .NetworKit_Page .Details .Value:before { display: block; } .NetworKit_Page .Value { font-family: monospace; white-space: pre; padding-left: 2.5em; white-space: -moz-pre-wrap !important; white-space: -pre-wrap; white-space: -o-pre-wrap; white-space: pre-wrap; word-wrap: break-word; tab-size: 4; -moz-tab-size: 4; } .NetworKit_Page .Category { clear: both; padding-left: 1em; margin-bottom: 1.5em; } .NetworKit_Page .Category:before { content: attr(data-title); font-size: 1.75em; display: block; margin-left: -0.8em; margin-bottom: 0.5em; } .NetworKit_Page .SubCategory { margin-bottom: 1.5em; padding-left: 1em; } .NetworKit_Page .SubCategory:before { font-size: 1.6em; display: block; margin-left: -0.8em; margin-bottom: 0.5em; } .NetworKit_Page .SubCategory[data-title]:before { content: attr(data-title); } .NetworKit_Page .Block { display: block; } .NetworKit_Page .Block:after { content: \".\"; visibility: hidden; display: block; height: 0; clear: both; } .NetworKit_Page .Block .Thumbnail_Overview, .NetworKit_Page .Block .Thumbnail_ScatterPlot { width: 260px; float: left; } .NetworKit_Page .Block .Thumbnail_Overview img, .NetworKit_Page .Block .Thumbnail_ScatterPlot img { width: 260px; } .NetworKit_Page .Block .Thumbnail_Overview:before, .NetworKit_Page .Block .Thumbnail_ScatterPlot:before { display: block; text-align: center; font-weight: bold; } .NetworKit_Page .Block .Thumbnail_Overview:before { content: attr(data-title); } .NetworKit_Page .HeatCell { font-family: \"Courier New\", Courier, monospace; cursor: pointer; } .NetworKit_Page .HeatCell, .NetworKit_Page .HeatCellName { display: inline; padding: 0.1em; margin-right: 2px; background-color: #FFFFFF } .NetworKit_Page .HeatCellName { margin-left: 0.25em; } .NetworKit_Page .HeatCell:before { content: attr(data-heat); display: inline-block; color: #000000; width: 4em; text-align: center; } .NetworKit_Page .Measure { clear: both; } .NetworKit_Page .Measure .Details { cursor: pointer; } .NetworKit_Page .Measure .Details:before { content: \"[\" attr(data-title) \"]\"; display: block; } .NetworKit_Page .Measure .Details .Value { border-left: 1px dotted black; margin-left: 0.4em; padding-left: 3.5em; pointer-events: none; } .NetworKit_Page .Measure .Details .Spacer:before { content: \".\"; opacity: 0.0; pointer-events: none; } .NetworKit_Page .Measure .Plot { width: 440px; height: 440px; cursor: pointer; float: left; margin-left: -0.9em; margin-right: 20px; } .NetworKit_Page .Measure .Plot .Image { background-repeat: no-repeat; background-position: center center; background-size: contain; height: 100%; pointer-events: none; } .NetworKit_Page .Measure .Stat { width: 500px; float: left; } .NetworKit_Page .Measure .Stat .Group { padding-left: 1.25em; margin-bottom: 0.75em; } .NetworKit_Page .Measure .Stat .Group .Title { font-size: 1.1em; display: block; margin-bottom: 0.3em; margin-left: -0.75em; border-right-style: dotted; border-right-width: 1px; border-bottom-style: dotted; border-bottom-width: 1px; background-color: #D0D0D0; padding-left: 0.2em; } .NetworKit_Page .Measure .Stat .Group .List { -webkit-column-count: 3; -moz-column-count: 3; column-count: 3; } .NetworKit_Page .Measure .Stat .Group .List .Entry { position: relative; line-height: 1.75em; } .NetworKit_Page .Measure .Stat .Group .List .Entry[data-tooltip]:before { position: absolute; left: 0; top: -40px; background-color: #808080; color: #ffffff; height: 30px; line-height: 30px; border-radius: 5px; padding: 0 15px; content: attr(data-tooltip); white-space: nowrap; display: none; } .NetworKit_Page .Measure .Stat .Group .List .Entry[data-tooltip]:after { position: absolute; left: 15px; top: -10px; border-top: 7px solid #808080; border-left: 7px solid transparent; border-right: 7px solid transparent; content: \"\"; display: none; } .NetworKit_Page .Measure .Stat .Group .List .Entry[data-tooltip]:hover:after, .NetworKit_Page .Measure .Stat .Group .List .Entry[data-tooltip]:hover:before { display: block; } .NetworKit_Page .Measure .Stat .Group .List .Entry .MathValue { font-family: \"Courier New\", Courier, monospace; } .NetworKit_Page .Measure:after { content: \".\"; visibility: hidden; display: block; height: 0; clear: both; } .NetworKit_Page .PartitionPie { clear: both; } .NetworKit_Page .PartitionPie img { width: 600px; } #NetworKit_Overlay { left: 0px; top: 0px; display: none; position: absolute; width: 100%; height: 100%; background-color: rgba(0,0,0,0.6); z-index: 1000; } #NetworKit_Overlay_Title { position: absolute; color: white; transform: rotate(-90deg); width: 32em; height: 32em; padding-right: 0.5em; padding-top: 0.5em; text-align: right; font-size: 40px; } #NetworKit_Overlay .button { background: white; cursor: pointer; } #NetworKit_Overlay .button:before { size: 13px; display: inline-block; text-align: center; margin-top: 0.5em; margin-bottom: 0.5em; width: 1.5em; height: 1.5em; } #NetworKit_Overlay .icon-close:before { content: \"X\"; } #NetworKit_Overlay .icon-previous:before { content: \"P\"; } #NetworKit_Overlay .icon-next:before { content: \"N\"; } #NetworKit_Overlay .icon-save:before { content: \"S\"; } #NetworKit_Overlay_Toolbar_Top, #NetworKit_Overlay_Toolbar_Bottom { position: absolute; width: 40px; right: 13px; text-align: right; z-index: 1100; } #NetworKit_Overlay_Toolbar_Top { top: 0.5em; } #NetworKit_Overlay_Toolbar_Bottom { Bottom: 0.5em; } #NetworKit_Overlay_ImageContainer { position: absolute; top: 5%; left: 5%; height: 90%; width: 90%; background-repeat: no-repeat; background-position: center center; background-size: contain; } #NetworKit_Overlay_Image { height: 100%; width: 100%; background-repeat: no-repeat; background-position: center center; background-size: contain; }';\n",
       "\t\t\t\telement.setAttribute('id', 'NetworKit_style');\n",
       "\t\t\t\tdocument.head.appendChild(element);\n",
       "\t\t\t}\n",
       "\t\t\n",
       "\t\t\t\t\n",
       "\t\t\t{\n",
       "\t\t\t\tvar element = document.getElementById('NetworKit_Overlay');\n",
       "\t\t\t\tif (element) {\n",
       "\t\t\t\t\telement.parentNode.removeChild(element);\n",
       "\t\t\t\t}\n",
       "\t\t\t\telement = document.createElement('div');\n",
       "\t\t\t\telement.innerHTML = '<div id=\"NetworKit_Overlay_Toolbar_Top\"><div class=\"button icon-close\" id=\"NetworKit_Overlay_Close\" /></div><div id=\"NetworKit_Overlay_Title\" /> <div id=\"NetworKit_Overlay_ImageContainer\"> <div id=\"NetworKit_Overlay_Image\" /> </div> <div id=\"NetworKit_Overlay_Toolbar_Bottom\"> <div class=\"button icon-previous\" onclick=\"NetworKit_overlayImageShift(-1)\" /> <div class=\"button icon-next\" onclick=\"NetworKit_overlayImageShift(1)\" /> <a id=\"NetworKit_Overlay_Toolbar_Bottom_Save\"><div class=\"button icon-save\" /></a> </div>';\n",
       "\t\t\t\telement.setAttribute('id', 'NetworKit_Overlay');\n",
       "\t\t\t\tdocument.body.appendChild(element);\n",
       "\t\t\t\tdocument.getElementById('NetworKit_Overlay_Close').onclick = function (e) {\n",
       "\t\t\t\t\tdocument.getElementById('NetworKit_Overlay').style.display = 'none';\n",
       "\t\t\t\t}\n",
       "\t\t\t}\n",
       "\t\t\n",
       "\t\t\t-->\n",
       "\t\t\t</script>\n",
       "\t\t"
      ]
     },
     "metadata": {},
     "output_type": "display_data"
    }
   ],
   "source": [
    "import os\n",
    "import geopandas as gpd\n",
    "from blocksnet import GraphGenerator\n",
    "import blocksnet\n",
    "from blocksnet.preprocessing import DataGetter, AggregateParameters\n",
    "\n",
    "from blocksnet.models import City\n",
    "import pandas as pd\n",
    "from shapely import Point\n",
    "\n",
    "\n",
    "import warnings\n",
    "warnings.filterwarnings('ignore')\n",
    "\n",
    "\n",
    "\n",
    "local_crs = 32636\n",
    "example_data_path = \"./my_data\"\n",
    "example_data_path_for_me = \"./my_data/examples\""
   ]
  },
  {
   "cell_type": "code",
   "execution_count": 2,
   "metadata": {},
   "outputs": [
    {
     "data": {
      "text/html": [
       "<div>\n",
       "<style scoped>\n",
       "    .dataframe tbody tr th:only-of-type {\n",
       "        vertical-align: middle;\n",
       "    }\n",
       "\n",
       "    .dataframe tbody tr th {\n",
       "        vertical-align: top;\n",
       "    }\n",
       "\n",
       "    .dataframe thead th {\n",
       "        text-align: right;\n",
       "    }\n",
       "</style>\n",
       "<table border=\"1\" class=\"dataframe\">\n",
       "  <thead>\n",
       "    <tr style=\"text-align: right;\">\n",
       "      <th></th>\n",
       "      <th>geometry</th>\n",
       "      <th>id</th>\n",
       "      <th>landuse</th>\n",
       "    </tr>\n",
       "  </thead>\n",
       "  <tbody>\n",
       "    <tr>\n",
       "      <th>0</th>\n",
       "      <td>POLYGON ((303022.702 6675775.060, 303022.795 6...</td>\n",
       "      <td>0</td>\n",
       "      <td>no_dev_area</td>\n",
       "    </tr>\n",
       "    <tr>\n",
       "      <th>1</th>\n",
       "      <td>POLYGON ((303012.608 6675801.562, 303012.586 6...</td>\n",
       "      <td>1</td>\n",
       "      <td>no_dev_area</td>\n",
       "    </tr>\n",
       "    <tr>\n",
       "      <th>2</th>\n",
       "      <td>POLYGON ((303064.339 6675806.849, 303064.442 6...</td>\n",
       "      <td>2</td>\n",
       "      <td>no_dev_area</td>\n",
       "    </tr>\n",
       "    <tr>\n",
       "      <th>3</th>\n",
       "      <td>POLYGON ((303428.643 6675829.284, 303425.776 6...</td>\n",
       "      <td>3</td>\n",
       "      <td>buildings</td>\n",
       "    </tr>\n",
       "    <tr>\n",
       "      <th>4</th>\n",
       "      <td>POLYGON ((303429.370 6675800.664, 303429.236 6...</td>\n",
       "      <td>4</td>\n",
       "      <td>no_dev_area</td>\n",
       "    </tr>\n",
       "  </tbody>\n",
       "</table>\n",
       "</div>"
      ],
      "text/plain": [
       "                                            geometry  id      landuse\n",
       "0  POLYGON ((303022.702 6675775.060, 303022.795 6...   0  no_dev_area\n",
       "1  POLYGON ((303012.608 6675801.562, 303012.586 6...   1  no_dev_area\n",
       "2  POLYGON ((303064.339 6675806.849, 303064.442 6...   2  no_dev_area\n",
       "3  POLYGON ((303428.643 6675829.284, 303425.776 6...   3    buildings\n",
       "4  POLYGON ((303429.370 6675800.664, 303429.236 6...   4  no_dev_area"
      ]
     },
     "execution_count": 2,
     "metadata": {},
     "output_type": "execute_result"
    }
   ],
   "source": [
    "blocks = gpd.read_parquet(os.path.join(example_data_path, 'blocks_cutter_result.parquet')).to_crs(local_crs)\n",
    "blocks.head()"
   ]
  },
  {
   "cell_type": "code",
   "execution_count": 3,
   "metadata": {},
   "outputs": [
    {
     "data": {
      "text/html": [
       "<div>\n",
       "<style scoped>\n",
       "    .dataframe tbody tr th:only-of-type {\n",
       "        vertical-align: middle;\n",
       "    }\n",
       "\n",
       "    .dataframe tbody tr th {\n",
       "        vertical-align: top;\n",
       "    }\n",
       "\n",
       "    .dataframe thead th {\n",
       "        text-align: right;\n",
       "    }\n",
       "</style>\n",
       "<table border=\"1\" class=\"dataframe\">\n",
       "  <thead>\n",
       "    <tr style=\"text-align: right;\">\n",
       "      <th></th>\n",
       "      <th>avg_m2_price_rent</th>\n",
       "      <th>mean_price_rent</th>\n",
       "      <th>P_clinic</th>\n",
       "      <th>P_hospitals</th>\n",
       "      <th>P_kindergarten</th>\n",
       "      <th>P_mfc</th>\n",
       "      <th>P_schools</th>\n",
       "      <th>accs_time</th>\n",
       "      <th>log_accs_time</th>\n",
       "      <th>Iq</th>\n",
       "      <th>P_avg</th>\n",
       "      <th>Idx</th>\n",
       "      <th>geometry</th>\n",
       "    </tr>\n",
       "  </thead>\n",
       "  <tbody>\n",
       "    <tr>\n",
       "      <th>0</th>\n",
       "      <td>1190.476190</td>\n",
       "      <td>25000.0</td>\n",
       "      <td>1</td>\n",
       "      <td>1</td>\n",
       "      <td>1.0</td>\n",
       "      <td>0.0</td>\n",
       "      <td>1.0</td>\n",
       "      <td>40.8</td>\n",
       "      <td>1.61</td>\n",
       "      <td>0.55</td>\n",
       "      <td>0.8</td>\n",
       "      <td>0.675</td>\n",
       "      <td>POINT (349844.614 6646516.903)</td>\n",
       "    </tr>\n",
       "    <tr>\n",
       "      <th>1</th>\n",
       "      <td>537.634409</td>\n",
       "      <td>30000.0</td>\n",
       "      <td>1</td>\n",
       "      <td>1</td>\n",
       "      <td>1.0</td>\n",
       "      <td>0.0</td>\n",
       "      <td>1.0</td>\n",
       "      <td>83.0</td>\n",
       "      <td>1.92</td>\n",
       "      <td>0.37</td>\n",
       "      <td>0.8</td>\n",
       "      <td>0.585</td>\n",
       "      <td>POINT (349100.178 6657288.179)</td>\n",
       "    </tr>\n",
       "    <tr>\n",
       "      <th>2</th>\n",
       "      <td>708.573345</td>\n",
       "      <td>44666.0</td>\n",
       "      <td>1</td>\n",
       "      <td>1</td>\n",
       "      <td>1.0</td>\n",
       "      <td>0.0</td>\n",
       "      <td>1.0</td>\n",
       "      <td>10.0</td>\n",
       "      <td>1.00</td>\n",
       "      <td>0.50</td>\n",
       "      <td>0.8</td>\n",
       "      <td>0.650</td>\n",
       "      <td>POINT (342768.230 6637807.041)</td>\n",
       "    </tr>\n",
       "    <tr>\n",
       "      <th>3</th>\n",
       "      <td>538.461538</td>\n",
       "      <td>35000.0</td>\n",
       "      <td>1</td>\n",
       "      <td>1</td>\n",
       "      <td>1.0</td>\n",
       "      <td>0.0</td>\n",
       "      <td>1.0</td>\n",
       "      <td>10.0</td>\n",
       "      <td>1.00</td>\n",
       "      <td>0.61</td>\n",
       "      <td>0.8</td>\n",
       "      <td>0.705</td>\n",
       "      <td>POINT (342687.422 6637725.165)</td>\n",
       "    </tr>\n",
       "    <tr>\n",
       "      <th>4</th>\n",
       "      <td>2000.000000</td>\n",
       "      <td>32000.0</td>\n",
       "      <td>1</td>\n",
       "      <td>1</td>\n",
       "      <td>0.0</td>\n",
       "      <td>1.0</td>\n",
       "      <td>0.0</td>\n",
       "      <td>39.5</td>\n",
       "      <td>1.60</td>\n",
       "      <td>0.42</td>\n",
       "      <td>0.6</td>\n",
       "      <td>0.510</td>\n",
       "      <td>POINT (350044.641 6646061.322)</td>\n",
       "    </tr>\n",
       "  </tbody>\n",
       "</table>\n",
       "</div>"
      ],
      "text/plain": [
       "   avg_m2_price_rent  mean_price_rent  P_clinic  P_hospitals  P_kindergarten  \\\n",
       "0        1190.476190          25000.0         1            1             1.0   \n",
       "1         537.634409          30000.0         1            1             1.0   \n",
       "2         708.573345          44666.0         1            1             1.0   \n",
       "3         538.461538          35000.0         1            1             1.0   \n",
       "4        2000.000000          32000.0         1            1             0.0   \n",
       "\n",
       "   P_mfc  P_schools  accs_time  log_accs_time    Iq  P_avg    Idx  \\\n",
       "0    0.0        1.0       40.8           1.61  0.55    0.8  0.675   \n",
       "1    0.0        1.0       83.0           1.92  0.37    0.8  0.585   \n",
       "2    0.0        1.0       10.0           1.00  0.50    0.8  0.650   \n",
       "3    0.0        1.0       10.0           1.00  0.61    0.8  0.705   \n",
       "4    1.0        0.0       39.5           1.60  0.42    0.6  0.510   \n",
       "\n",
       "                         geometry  \n",
       "0  POINT (349844.614 6646516.903)  \n",
       "1  POINT (349100.178 6657288.179)  \n",
       "2  POINT (342768.230 6637807.041)  \n",
       "3  POINT (342687.422 6637725.165)  \n",
       "4  POINT (350044.641 6646061.322)  "
      ]
     },
     "execution_count": 3,
     "metadata": {},
     "output_type": "execute_result"
    }
   ],
   "source": [
    "houses = gpd.read_file(os.path.join(example_data_path, \"house_points.geojson\")).to_crs(local_crs)\n",
    "houses.head()"
   ]
  },
  {
   "cell_type": "code",
   "execution_count": 4,
   "metadata": {},
   "outputs": [
    {
     "data": {
      "text/plain": [
       "count    1505.000000\n",
       "mean        0.405654\n",
       "std         0.088457\n",
       "min         0.300000\n",
       "25%         0.340000\n",
       "50%         0.380000\n",
       "75%         0.490000\n",
       "max         0.790000\n",
       "Name: Iq, dtype: float64"
      ]
     },
     "execution_count": 4,
     "metadata": {},
     "output_type": "execute_result"
    }
   ],
   "source": [
    "houses['Iq'].describe()"
   ]
  },
  {
   "cell_type": "code",
   "execution_count": 5,
   "metadata": {},
   "outputs": [
    {
     "data": {
      "text/plain": [
       "count    1404.000000\n",
       "mean        0.413255\n",
       "std         0.086756\n",
       "min         0.310000\n",
       "25%         0.350000\n",
       "50%         0.380000\n",
       "75%         0.490000\n",
       "max         0.790000\n",
       "Name: Iq, dtype: float64"
      ]
     },
     "execution_count": 5,
     "metadata": {},
     "output_type": "execute_result"
    }
   ],
   "source": [
    "houses = houses.loc[houses['Iq'] > 0.3]\n",
    "houses['Iq'].describe()"
   ]
  },
  {
   "cell_type": "code",
   "execution_count": 6,
   "metadata": {},
   "outputs": [
    {
     "data": {
      "text/html": [
       "<div>\n",
       "<style scoped>\n",
       "    .dataframe tbody tr th:only-of-type {\n",
       "        vertical-align: middle;\n",
       "    }\n",
       "\n",
       "    .dataframe tbody tr th {\n",
       "        vertical-align: top;\n",
       "    }\n",
       "\n",
       "    .dataframe thead th {\n",
       "        text-align: right;\n",
       "    }\n",
       "</style>\n",
       "<table border=\"1\" class=\"dataframe\">\n",
       "  <thead>\n",
       "    <tr style=\"text-align: right;\">\n",
       "      <th></th>\n",
       "      <th>geometry</th>\n",
       "      <th>id</th>\n",
       "      <th>landuse</th>\n",
       "    </tr>\n",
       "  </thead>\n",
       "  <tbody>\n",
       "    <tr>\n",
       "      <th>0</th>\n",
       "      <td>POLYGON ((337030.970 6638333.827, 337031.347 6...</td>\n",
       "      <td>2854</td>\n",
       "      <td>selected_area</td>\n",
       "    </tr>\n",
       "    <tr>\n",
       "      <th>1</th>\n",
       "      <td>POLYGON ((339076.063 6636586.371, 339075.615 6...</td>\n",
       "      <td>3326</td>\n",
       "      <td>no_dev_area</td>\n",
       "    </tr>\n",
       "    <tr>\n",
       "      <th>2</th>\n",
       "      <td>POLYGON ((338883.944 6636688.475, 338884.040 6...</td>\n",
       "      <td>3331</td>\n",
       "      <td>buildings</td>\n",
       "    </tr>\n",
       "    <tr>\n",
       "      <th>3</th>\n",
       "      <td>POLYGON ((339697.103 6635459.892, 339690.468 6...</td>\n",
       "      <td>3503</td>\n",
       "      <td>no_dev_area</td>\n",
       "    </tr>\n",
       "    <tr>\n",
       "      <th>4</th>\n",
       "      <td>POLYGON ((340239.631 6635418.232, 340239.373 6...</td>\n",
       "      <td>3504</td>\n",
       "      <td>no_dev_area</td>\n",
       "    </tr>\n",
       "  </tbody>\n",
       "</table>\n",
       "</div>"
      ],
      "text/plain": [
       "                                            geometry    id        landuse\n",
       "0  POLYGON ((337030.970 6638333.827, 337031.347 6...  2854  selected_area\n",
       "1  POLYGON ((339076.063 6636586.371, 339075.615 6...  3326    no_dev_area\n",
       "2  POLYGON ((338883.944 6636688.475, 338884.040 6...  3331      buildings\n",
       "3  POLYGON ((339697.103 6635459.892, 339690.468 6...  3503    no_dev_area\n",
       "4  POLYGON ((340239.631 6635418.232, 340239.373 6...  3504    no_dev_area"
      ]
     },
     "execution_count": 6,
     "metadata": {},
     "output_type": "execute_result"
    }
   ],
   "source": [
    "houses_pol = houses.copy()\n",
    "houses_pol['geometry'] = houses['geometry'].apply(lambda x: x.buffer(0.001))  # Преобразование точек в небольшие полигоны\n",
    "\n",
    "# Выполнение пространственного объединения для определения, в каких кварталах находятся дома\n",
    "overlay = gpd.overlay(blocks, houses_pol, how=\"intersection\")\n",
    "\n",
    "unique_blocks_ids = overlay[\"id\"].unique()\n",
    "\n",
    "blocks_with_houses = blocks[blocks[\"id\"].isin(unique_blocks_ids)]\n",
    "blocks_with_houses.reset_index(drop= True, inplace= True )\n",
    "blocks_with_houses.head()"
   ]
  },
  {
   "cell_type": "code",
   "execution_count": 7,
   "metadata": {},
   "outputs": [
    {
     "name": "stdout",
     "output_type": "stream",
     "text": [
      "<class 'geopandas.geodataframe.GeoDataFrame'>\n",
      "RangeIndex: 241 entries, 0 to 240\n",
      "Data columns (total 3 columns):\n",
      " #   Column    Non-Null Count  Dtype   \n",
      "---  ------    --------------  -----   \n",
      " 0   geometry  241 non-null    geometry\n",
      " 1   id        241 non-null    int64   \n",
      " 2   landuse   241 non-null    object  \n",
      "dtypes: geometry(1), int64(1), object(1)\n",
      "memory usage: 5.8+ KB\n"
     ]
    }
   ],
   "source": [
    "blocks_with_houses.info()"
   ]
  },
  {
   "cell_type": "code",
   "execution_count": 8,
   "metadata": {},
   "outputs": [],
   "source": [
    "# blocks_with_houses.explore()"
   ]
  },
  {
   "cell_type": "code",
   "execution_count": 9,
   "metadata": {},
   "outputs": [],
   "source": [
    "getter = DataGetter(blocks=blocks_with_houses)"
   ]
  },
  {
   "cell_type": "code",
   "execution_count": 10,
   "metadata": {},
   "outputs": [
    {
     "data": {
      "text/plain": [
       "'\\ncity_geometry = gpd.GeoDataFrame([{\\'geometry\\': blocks_with_houses.unary_union.convex_hull}]).set_crs(local_crs)\\nintermodal_graph = GraphGenerator(city_geometry=city_geometry, local_crs=local_crs).get_graph(\\'intermodal\\')\\naccessibility_matrix = getter.get_accessibility_matrix(intermodal_graph)\\naccessibility_matrix.to_pickle(os.path.join(example_data_path, \"data_getter_matrix.pickle\"))\\n'"
      ]
     },
     "execution_count": 10,
     "metadata": {},
     "output_type": "execute_result"
    }
   ],
   "source": [
    "# Создание графа транспортной доступности \n",
    "# +\n",
    "# Создание матрицы доступности и сохранение ее в пикл\n",
    "\n",
    "'''\n",
    "city_geometry = gpd.GeoDataFrame([{'geometry': blocks_with_houses.unary_union.convex_hull}]).set_crs(local_crs)\n",
    "intermodal_graph = GraphGenerator(city_geometry=city_geometry, local_crs=local_crs).get_graph('intermodal')\n",
    "accessibility_matrix = getter.get_accessibility_matrix(intermodal_graph)\n",
    "accessibility_matrix.to_pickle(os.path.join(example_data_path, \"data_getter_matrix.pickle\"))\n",
    "'''"
   ]
  },
  {
   "cell_type": "code",
   "execution_count": 11,
   "metadata": {},
   "outputs": [],
   "source": [
    "# city_geometry = gpd.GeoDataFrame([{'geometry': blocks_with_houses.unary_union.convex_hull}]).set_crs(local_crs)\n",
    "# intermodal_graph = GraphGenerator(city_geometry=city_geometry, local_crs=local_crs).get_graph('intermodal')\n",
    "# gg = blocksnet.preprocessing.graph_generator.GraphGenerator(city_geometry = city_geometry)\n",
    "# gg.plot(intermodal_graph)"
   ]
  },
  {
   "cell_type": "code",
   "execution_count": 12,
   "metadata": {},
   "outputs": [
    {
     "data": {
      "text/html": [
       "<div>\n",
       "<style scoped>\n",
       "    .dataframe tbody tr th:only-of-type {\n",
       "        vertical-align: middle;\n",
       "    }\n",
       "\n",
       "    .dataframe tbody tr th {\n",
       "        vertical-align: top;\n",
       "    }\n",
       "\n",
       "    .dataframe thead th {\n",
       "        text-align: right;\n",
       "    }\n",
       "</style>\n",
       "<table border=\"1\" class=\"dataframe\">\n",
       "  <thead>\n",
       "    <tr style=\"text-align: right;\">\n",
       "      <th></th>\n",
       "      <th>building_id</th>\n",
       "      <th>building_area</th>\n",
       "      <th>living_area</th>\n",
       "      <th>storeys_count</th>\n",
       "      <th>population_balanced</th>\n",
       "      <th>is_living</th>\n",
       "      <th>geom</th>\n",
       "    </tr>\n",
       "  </thead>\n",
       "  <tbody>\n",
       "    <tr>\n",
       "      <th>0</th>\n",
       "      <td>1</td>\n",
       "      <td>145.871</td>\n",
       "      <td>NaN</td>\n",
       "      <td>2.0</td>\n",
       "      <td>29</td>\n",
       "      <td>False</td>\n",
       "      <td>MULTIPOLYGON (((302685.489 6676297.801, 302689...</td>\n",
       "    </tr>\n",
       "    <tr>\n",
       "      <th>1</th>\n",
       "      <td>2</td>\n",
       "      <td>139.242</td>\n",
       "      <td>NaN</td>\n",
       "      <td>NaN</td>\n",
       "      <td>0</td>\n",
       "      <td>False</td>\n",
       "      <td>POLYGON ((302929.515 6676138.437, 302932.880 6...</td>\n",
       "    </tr>\n",
       "    <tr>\n",
       "      <th>2</th>\n",
       "      <td>3</td>\n",
       "      <td>390.244</td>\n",
       "      <td>NaN</td>\n",
       "      <td>NaN</td>\n",
       "      <td>0</td>\n",
       "      <td>True</td>\n",
       "      <td>MULTIPOLYGON (((303042.071 6676392.771, 303043...</td>\n",
       "    </tr>\n",
       "    <tr>\n",
       "      <th>3</th>\n",
       "      <td>4</td>\n",
       "      <td>579.998</td>\n",
       "      <td>405.998</td>\n",
       "      <td>1.0</td>\n",
       "      <td>0</td>\n",
       "      <td>True</td>\n",
       "      <td>MULTIPOLYGON (((303078.321 6676453.630, 303091...</td>\n",
       "    </tr>\n",
       "    <tr>\n",
       "      <th>4</th>\n",
       "      <td>5</td>\n",
       "      <td>695.979</td>\n",
       "      <td>915.400</td>\n",
       "      <td>1.0</td>\n",
       "      <td>151</td>\n",
       "      <td>False</td>\n",
       "      <td>MULTIPOLYGON (((303246.716 6676494.615, 303278...</td>\n",
       "    </tr>\n",
       "  </tbody>\n",
       "</table>\n",
       "</div>"
      ],
      "text/plain": [
       "   building_id  building_area  living_area  storeys_count  \\\n",
       "0            1        145.871          NaN            2.0   \n",
       "1            2        139.242          NaN            NaN   \n",
       "2            3        390.244          NaN            NaN   \n",
       "3            4        579.998      405.998            1.0   \n",
       "4            5        695.979      915.400            1.0   \n",
       "\n",
       "   population_balanced  is_living  \\\n",
       "0                   29      False   \n",
       "1                    0      False   \n",
       "2                    0       True   \n",
       "3                    0       True   \n",
       "4                  151      False   \n",
       "\n",
       "                                                geom  \n",
       "0  MULTIPOLYGON (((302685.489 6676297.801, 302689...  \n",
       "1  POLYGON ((302929.515 6676138.437, 302932.880 6...  \n",
       "2  MULTIPOLYGON (((303042.071 6676392.771, 303043...  \n",
       "3  MULTIPOLYGON (((303078.321 6676453.630, 303091...  \n",
       "4  MULTIPOLYGON (((303246.716 6676494.615, 303278...  "
      ]
     },
     "execution_count": 12,
     "metadata": {},
     "output_type": "execute_result"
    }
   ],
   "source": [
    "buildings = gpd.read_parquet(os.path.join(example_data_path, \"all_buildings_spb.parquet\")).to_crs(local_crs)\n",
    "buildings.head()"
   ]
  },
  {
   "cell_type": "code",
   "execution_count": 13,
   "metadata": {},
   "outputs": [
    {
     "data": {
      "text/html": [
       "<div>\n",
       "<style scoped>\n",
       "    .dataframe tbody tr th:only-of-type {\n",
       "        vertical-align: middle;\n",
       "    }\n",
       "\n",
       "    .dataframe tbody tr th {\n",
       "        vertical-align: top;\n",
       "    }\n",
       "\n",
       "    .dataframe thead th {\n",
       "        text-align: right;\n",
       "    }\n",
       "</style>\n",
       "<table border=\"1\" class=\"dataframe\">\n",
       "  <thead>\n",
       "    <tr style=\"text-align: right;\">\n",
       "      <th></th>\n",
       "      <th>building_id</th>\n",
       "      <th>building_area</th>\n",
       "      <th>living_area</th>\n",
       "      <th>storeys_count</th>\n",
       "      <th>population_balanced</th>\n",
       "      <th>is_living</th>\n",
       "      <th>geometry</th>\n",
       "      <th>total_area</th>\n",
       "      <th>living_area_pyatno</th>\n",
       "    </tr>\n",
       "  </thead>\n",
       "  <tbody>\n",
       "    <tr>\n",
       "      <th>24277</th>\n",
       "      <td>24510</td>\n",
       "      <td>1332.330</td>\n",
       "      <td>6548.3</td>\n",
       "      <td>9.0</td>\n",
       "      <td>188</td>\n",
       "      <td>True</td>\n",
       "      <td>MULTIPOLYGON (((338091.065 6638065.940, 338095...</td>\n",
       "      <td>1332.122430</td>\n",
       "      <td>1332.122430</td>\n",
       "    </tr>\n",
       "    <tr>\n",
       "      <th>24886</th>\n",
       "      <td>25123</td>\n",
       "      <td>381.492</td>\n",
       "      <td>692.5</td>\n",
       "      <td>3.0</td>\n",
       "      <td>20</td>\n",
       "      <td>True</td>\n",
       "      <td>MULTIPOLYGON (((338565.066 6637860.958, 338567...</td>\n",
       "      <td>381.430031</td>\n",
       "      <td>381.430031</td>\n",
       "    </tr>\n",
       "    <tr>\n",
       "      <th>25425</th>\n",
       "      <td>25664</td>\n",
       "      <td>339.437</td>\n",
       "      <td>3735.0</td>\n",
       "      <td>15.0</td>\n",
       "      <td>107</td>\n",
       "      <td>True</td>\n",
       "      <td>MULTIPOLYGON (((339056.394 6637144.906, 339065...</td>\n",
       "      <td>339.380680</td>\n",
       "      <td>339.380680</td>\n",
       "    </tr>\n",
       "    <tr>\n",
       "      <th>25525</th>\n",
       "      <td>25764</td>\n",
       "      <td>439.492</td>\n",
       "      <td>4833.9</td>\n",
       "      <td>15.0</td>\n",
       "      <td>139</td>\n",
       "      <td>True</td>\n",
       "      <td>MULTIPOLYGON (((339132.623 6637136.638, 339139...</td>\n",
       "      <td>439.419333</td>\n",
       "      <td>439.419333</td>\n",
       "    </tr>\n",
       "    <tr>\n",
       "      <th>25550</th>\n",
       "      <td>25789</td>\n",
       "      <td>804.020</td>\n",
       "      <td>3525.1</td>\n",
       "      <td>5.0</td>\n",
       "      <td>101</td>\n",
       "      <td>True</td>\n",
       "      <td>MULTIPOLYGON (((339135.481 6636807.653, 339136...</td>\n",
       "      <td>803.886508</td>\n",
       "      <td>803.886508</td>\n",
       "    </tr>\n",
       "  </tbody>\n",
       "</table>\n",
       "</div>"
      ],
      "text/plain": [
       "       building_id  building_area  living_area  storeys_count  \\\n",
       "24277        24510       1332.330       6548.3            9.0   \n",
       "24886        25123        381.492        692.5            3.0   \n",
       "25425        25664        339.437       3735.0           15.0   \n",
       "25525        25764        439.492       4833.9           15.0   \n",
       "25550        25789        804.020       3525.1            5.0   \n",
       "\n",
       "       population_balanced  is_living  \\\n",
       "24277                  188       True   \n",
       "24886                   20       True   \n",
       "25425                  107       True   \n",
       "25525                  139       True   \n",
       "25550                  101       True   \n",
       "\n",
       "                                                geometry   total_area  \\\n",
       "24277  MULTIPOLYGON (((338091.065 6638065.940, 338095...  1332.122430   \n",
       "24886  MULTIPOLYGON (((338565.066 6637860.958, 338567...   381.430031   \n",
       "25425  MULTIPOLYGON (((339056.394 6637144.906, 339065...   339.380680   \n",
       "25525  MULTIPOLYGON (((339132.623 6637136.638, 339139...   439.419333   \n",
       "25550  MULTIPOLYGON (((339135.481 6636807.653, 339136...   803.886508   \n",
       "\n",
       "       living_area_pyatno  \n",
       "24277         1332.122430  \n",
       "24886          381.430031  \n",
       "25425          339.380680  \n",
       "25525          439.419333  \n",
       "25550          803.886508  "
      ]
     },
     "execution_count": 13,
     "metadata": {},
     "output_type": "execute_result"
    }
   ],
   "source": [
    "# Выполнение пространственного объединения для определения нужных домов\n",
    "overlay = gpd.overlay(houses_pol, buildings, how=\"intersection\")\n",
    "\n",
    "unique_buildings_ids = overlay[\"building_id\"].unique()\n",
    "\n",
    "buildings = buildings[buildings[\"building_id\"].isin(unique_buildings_ids)]\n",
    "\n",
    "# Для того, чтобы сработал aggregate_blocks_info\n",
    "buildings.rename(columns = {'geom': 'geometry'}, inplace = True )\n",
    "buildings['is_living'] = True\n",
    "buildings = buildings.set_geometry('geometry')\n",
    "buildings['total_area'] = buildings['geometry'].area\n",
    "buildings['living_area_pyatno'] = buildings['geometry'].area\n",
    "buildings.head()"
   ]
  },
  {
   "cell_type": "code",
   "execution_count": 14,
   "metadata": {},
   "outputs": [
    {
     "data": {
      "text/plain": [
       "True"
      ]
     },
     "execution_count": 14,
     "metadata": {},
     "output_type": "execute_result"
    }
   ],
   "source": [
    "isinstance(buildings, gpd.GeoDataFrame)"
   ]
  },
  {
   "cell_type": "code",
   "execution_count": 15,
   "metadata": {},
   "outputs": [
    {
     "data": {
      "text/html": [
       "<div>\n",
       "<style scoped>\n",
       "    .dataframe tbody tr th:only-of-type {\n",
       "        vertical-align: middle;\n",
       "    }\n",
       "\n",
       "    .dataframe tbody tr th {\n",
       "        vertical-align: top;\n",
       "    }\n",
       "\n",
       "    .dataframe thead th {\n",
       "        text-align: right;\n",
       "    }\n",
       "</style>\n",
       "<table border=\"1\" class=\"dataframe\">\n",
       "  <thead>\n",
       "    <tr style=\"text-align: right;\">\n",
       "      <th></th>\n",
       "      <th>current_green_area</th>\n",
       "      <th>current_green_capacity</th>\n",
       "      <th>geometry</th>\n",
       "    </tr>\n",
       "  </thead>\n",
       "  <tbody>\n",
       "    <tr>\n",
       "      <th>0</th>\n",
       "      <td>0</td>\n",
       "      <td>0</td>\n",
       "      <td>POINT (0.000 0.000)</td>\n",
       "    </tr>\n",
       "  </tbody>\n",
       "</table>\n",
       "</div>"
      ],
      "text/plain": [
       "   current_green_area  current_green_capacity             geometry\n",
       "0                   0                       0  POINT (0.000 0.000)"
      ]
     },
     "execution_count": 15,
     "metadata": {},
     "output_type": "execute_result"
    }
   ],
   "source": [
    "greenings = gpd.GeoDataFrame([{'current_green_area': 0, 'current_green_capacity': 0, 'geometry': Point(0,0)}]).set_crs(local_crs)\n",
    "parkings = gpd.GeoDataFrame([{'current_parking_capacity': 0, 'geometry': Point(0,0)}]).set_crs(local_crs)\n",
    "greenings.head()"
   ]
  },
  {
   "cell_type": "code",
   "execution_count": 16,
   "metadata": {},
   "outputs": [
    {
     "data": {
      "text/plain": [
       "'\\naggr_params = AggregateParameters(\\n  buildings=buildings,\\n  greenings=greenings,\\n  parkings=parkings\\n)\\n\\naggregated_blocks = getter.aggregate_blocks_info(params=aggr_params)\\naggregated_blocks.head()\\n\\n# Сохраняем агрегированные кварталы\\naggregated_blocks.to_parquet(os.path.join(example_data_path, \"data_getter_blocks.parquet\"))\\n'"
      ]
     },
     "execution_count": 16,
     "metadata": {},
     "output_type": "execute_result"
    }
   ],
   "source": [
    "# Агрегирование данных\n",
    "# +\n",
    "# Сохранение результата в паркет\n",
    "'''\n",
    "aggr_params = AggregateParameters(\n",
    "  buildings=buildings,\n",
    "  greenings=greenings,\n",
    "  parkings=parkings\n",
    ")\n",
    "\n",
    "aggregated_blocks = getter.aggregate_blocks_info(params=aggr_params)\n",
    "aggregated_blocks.head()\n",
    "\n",
    "# Сохраняем агрегированные кварталы\n",
    "aggregated_blocks.to_parquet(os.path.join(example_data_path, \"data_getter_blocks.parquet\"))\n",
    "'''"
   ]
  },
  {
   "cell_type": "code",
   "execution_count": 17,
   "metadata": {},
   "outputs": [],
   "source": [
    "# load aggregated info we have\n",
    "aggregated_blocks = gpd.read_parquet(os.path.join(example_data_path, \"data_getter_blocks.parquet\"))\n",
    "accessibility_matrix = pd.read_pickle(os.path.join(example_data_path, \"data_getter_matrix.pickle\"))"
   ]
  },
  {
   "cell_type": "code",
   "execution_count": 18,
   "metadata": {},
   "outputs": [],
   "source": [
    "city_model = City(\n",
    "  blocks_gdf=aggregated_blocks, \n",
    "  matrix=accessibility_matrix, \n",
    ")"
   ]
  },
  {
   "cell_type": "code",
   "execution_count": 19,
   "metadata": {},
   "outputs": [],
   "source": [
    "# load data required for service graphs creation\n",
    "schools = gpd.read_file(os.path.join(example_data_path, \"schools.geojson\")).to_crs(local_crs)\n",
    "kindergartens = gpd.read_file(os.path.join(example_data_path, \"kindergartens.geojson\")).to_crs(local_crs)\n",
    "multifunctional_centers = gpd.read_file(os.path.join(example_data_path, \"multifunctional_centers.geojson\")).to_crs(local_crs)\n",
    "hospitals = gpd.read_file(os.path.join(example_data_path, \"hospitals.geojson\")).to_crs(local_crs)\n",
    "policlinics = gpd.read_file(os.path.join(example_data_path, \"policlinics.geojson\")).to_crs(local_crs)\n",
    "\n",
    "# services should be specified as a dictionary\n",
    "services = {\"schools\": schools, \"kindergartens\": kindergartens, \"multifunctional_centers\": multifunctional_centers,\n",
    "            \"hospitals\": hospitals, \"policlinics\": policlinics}"
   ]
  },
  {
   "cell_type": "code",
   "execution_count": 20,
   "metadata": {},
   "outputs": [],
   "source": [
    "for service_type, gdf in services.items():\n",
    "  city_model.update_layer(service_type, gdf)"
   ]
  },
  {
   "cell_type": "code",
   "execution_count": 25,
   "metadata": {},
   "outputs": [],
   "source": [
    "city_model.to_pickle(os.path.join(example_data_path, 'city_model.pickle'))"
   ]
  },
  {
   "cell_type": "code",
   "execution_count": 26,
   "metadata": {},
   "outputs": [
    {
     "data": {
      "image/png": "[encoded data removed]",
      "text/plain": [
       "<Figure size 640x480 with 2 Axes>"
      ]
     },
     "metadata": {},
     "output_type": "display_data"
    }
   ],
   "source": [
    "city_model.plot()"
   ]
  },
  {
   "cell_type": "code",
   "execution_count": null,
   "metadata": {},
   "outputs": [],
   "source": []
  }
 ],
 "metadata": {
  "kernelspec": {
   "display_name": ".venv",
   "language": "python",
   "name": "python3"
  },
  "language_info": {
   "codemirror_mode": {
    "name": "ipython",
    "version": 3
   },
   "file_extension": ".py",
   "mimetype": "text/x-python",
   "name": "python",
   "nbconvert_exporter": "python",
   "pygments_lexer": "ipython3",
   "version": "3.11.6"
  }
 },
 "nbformat": 4,
 "nbformat_minor": 2
}
